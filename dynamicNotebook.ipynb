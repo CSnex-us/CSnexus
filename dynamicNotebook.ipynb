{
 "cells": [
  {
   "cell_type": "code",
   "execution_count": 2,
   "metadata": {},
   "outputs": [],
   "source": [
    "import nbformat as nbf\n",
    "nb = nbf.v4.new_notebook()\n",
    "\n",
    "text = \"\"\"\\\n",
    "# My first automatic Jupyter new_notebook\n",
    "This is an auto-generated notebook. \"\"\"\n",
    "\n",
    "code = \"\"\"\\\n",
    "%pylab inline \n",
    "hist(normal(size=2000), bins=50);\"\"\"\n",
    "\n",
    "nb['cells'] = [nbf.v4.new_markdown_cell(text),\n",
    "               nbf.v4.new_code_cell(code) ]\n",
    "\n",
    "nbf.write(nb, 'test.ipynb')               "
   ]
  }
 ],
 "metadata": {
  "interpreter": {
   "hash": "a4d0b95cfade2bb6fe1b3841c696b7b5d51404943b52caf927aac9033b78c190"
  },
  "kernelspec": {
   "display_name": "Python 3.10.4 64-bit",
   "language": "python",
   "name": "python3"
  },
  "language_info": {
   "codemirror_mode": {
    "name": "ipython",
    "version": 3
   },
   "file_extension": ".py",
   "mimetype": "text/x-python",
   "name": "python",
   "nbconvert_exporter": "python",
   "pygments_lexer": "ipython3",
   "version": "3.10.4"
  },
  "orig_nbformat": 4
 },
 "nbformat": 4,
 "nbformat_minor": 2
}
